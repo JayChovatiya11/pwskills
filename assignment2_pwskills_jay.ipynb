{
  "nbformat": 4,
  "nbformat_minor": 0,
  "metadata": {
    "colab": {
      "provenance": []
    },
    "kernelspec": {
      "name": "python3",
      "display_name": "Python 3"
    },
    "language_info": {
      "name": "python"
    }
  },
  "cells": [
    {
      "cell_type": "code",
      "execution_count": 2,
      "metadata": {
        "colab": {
          "base_uri": "https://localhost:8080/"
        },
        "id": "NhLXOHgJ_S1X",
        "outputId": "65d6201d-bde9-4bed-e387-6bfea67ba96d"
      },
      "outputs": [
        {
          "output_type": "stream",
          "name": "stdout",
          "text": [
            "John Doe\n"
          ]
        }
      ],
      "source": [
        "\n",
        "# Q1\n",
        "# Single-line comment\n",
        "'''\n",
        "Multi-line comment\n",
        "'''\n",
        "\n",
        "# Q2\n",
        "x = 10\n",
        "name = \"John\"\n",
        "is_active = True\n",
        "\n",
        "# Q3\n",
        "x = 5\n",
        "y = float(x)\n",
        "\n",
        "s = \"123\"\n",
        "n = int(s)\n",
        "\n",
        "# Q4\n",
        "# To execute this script from the command line, save it as my_script.py and run:\n",
        "# python my_script.py\n",
        "\n",
        "# Q5\n",
        "my_list = [1, 2, 3, 4, 5]\n",
        "sub_list = my_list[1:3]\n",
        "\n",
        "# Q6\n",
        "z = 3 + 4j\n",
        "\n",
        "# Q7\n",
        "age = 25\n",
        "\n",
        "# Q8\n",
        "price = 9.99\n",
        "\n",
        "# Q9\n",
        "name = \"John Doe\"\n",
        "print(name)\n",
        "\n",
        "# Q10\n",
        "greeting = \"Hello, World!\"\n",
        "substring = greeting[7:12]\n",
        "\n",
        "# Q11\n",
        "is_student = True\n"
      ]
    }
  ]
}