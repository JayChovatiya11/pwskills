{
  "nbformat": 4,
  "nbformat_minor": 0,
  "metadata": {
    "colab": {
      "provenance": []
    },
    "kernelspec": {
      "name": "python3",
      "display_name": "Python 3"
    },
    "language_info": {
      "name": "python"
    }
  },
  "cells": [
    {
      "cell_type": "code",
      "execution_count": 5,
      "metadata": {
        "colab": {
          "base_uri": "https://localhost:8080/"
        },
        "id": "4YF7dEw0JFS0",
        "outputId": "4aa972ce-be4f-4d59-d684-ca97888cb696"
      },
      "outputs": [
        {
          "output_type": "stream",
          "name": "stdout",
          "text": [
            "<class 'str'>\n",
            "<class 'str'>\n",
            "<class 'list'>\n",
            "<class 'float'>\n",
            "2.5\n",
            "1\n",
            "2\n",
            "8\n",
            "Element: 1 | Type: <class 'int'>\n",
            "Element: 3.14 | Type: <class 'float'>\n",
            "Element: Hello | Type: <class 'str'>\n",
            "Element: True | Type: <class 'bool'>\n",
            "Element: [5, 6] | Type: <class 'list'>\n",
            "Element: (7, 8) | Type: <class 'tuple'>\n",
            "Element: {'a': 10} | Type: <class 'dict'>\n",
            "Element: None | Type: <class 'NoneType'>\n",
            "Element: (2+3j) | Type: <class 'complex'>\n",
            "Element: range(0, 5) | Type: <class 'range'>\n",
            "5.0 is divisible by 4 1 times.\n",
            "1 is not divisible by 3\n",
            "2 is not divisible by 3\n",
            "3 is divisible by 3\n",
            "4 is not divisible by 3\n",
            "5 is not divisible by 3\n",
            "6 is divisible by 3\n",
            "7 is not divisible by 3\n",
            "8 is not divisible by 3\n",
            "9 is divisible by 3\n",
            "10 is not divisible by 3\n",
            "11 is not divisible by 3\n",
            "12 is divisible by 3\n",
            "13 is not divisible by 3\n",
            "14 is not divisible by 3\n",
            "15 is divisible by 3\n",
            "16 is not divisible by 3\n",
            "17 is not divisible by 3\n",
            "18 is divisible by 3\n",
            "19 is not divisible by 3\n",
            "20 is not divisible by 3\n",
            "21 is divisible by 3\n",
            "22 is not divisible by 3\n",
            "23 is not divisible by 3\n",
            "24 is divisible by 3\n",
            "25 is not divisible by 3\n",
            "[1, 2, 3, 4]\n"
          ]
        }
      ],
      "source": [
        "\n",
        "# (i) string\n",
        "my_string = \"Hello, world!\"\n",
        "\n",
        "# (ii) list\n",
        "my_list = [1, 2, 3, 4, 5]\n",
        "\n",
        "# (iii) float\n",
        "my_float = 3.14\n",
        "\n",
        "# (iv) tuple\n",
        "my_tuple = (10, 20, 30)\n",
        "\n",
        "# Variables for type checking\n",
        "var1 = ''                 # string\n",
        "var2 = '[DS, ML, Python]' # string\n",
        "var3 = ['DS', 'ML', 'Python']  # list\n",
        "var4 = 1.0                # float\n",
        "\n",
        "# Checking the types\n",
        "print(type(var1))   # <class 'str'>\n",
        "print(type(var2))   # <class 'str'>\n",
        "print(type(var3))   # <class 'list'>\n",
        "print(type(var4))   # <class 'float'>\n",
        "\n",
        "# Examples of Mathematical Operators\n",
        "print(5 / 2)   # 2.5\n",
        "print(5 % 2)   # 1\n",
        "print(5 // 2)  # 2\n",
        "print(2 ** 3)  # 8\n",
        "\n",
        "# Creating a List with Mixed Data Types and Printing Types\n",
        "my_list = [1, 3.14, \"Hello\", True, [5, 6], (7, 8), {'a': 10}, None, complex(2, 3), range(5)]\n",
        "\n",
        "for element in my_list:\n",
        "    print(f\"Element: {element} | Type: {type(element)}\")\n",
        "\n",
        "# Using a While Loop to Check Divisibility\n",
        "A = 20\n",
        "B = 4\n",
        "count = 0\n",
        "\n",
        "while A % B == 0:\n",
        "    A /= B\n",
        "    count += 1\n",
        "\n",
        "print(f\"{A} is divisible by {B} {count} times.\")\n",
        "\n",
        "# Using a For Loop to Check Divisibility by 3\n",
        "my_numbers = list(range(1, 26))\n",
        "\n",
        "for num in my_numbers:\n",
        "    if num % 3 == 0:\n",
        "        print(f\"{num} is divisible by 3\")\n",
        "    else:\n",
        "        print(f\"{num} is not divisible by 3\")\n",
        "\n",
        "# Modifying a List and Attempting to Modify a Tuple\n",
        "# Modifying a list\n",
        "my_list = [1, 2, 3]\n",
        "my_list.append(4)   # Modifying the list by adding an element\n",
        "print(my_list)      # Output: [1, 2, 3, 4]\n",
        "\n",
        "# Attempting to modify a tuple will raise an error\n",
        "my_tuple = (10, 20, 30)\n",
        "# my_tuple[0] = 5  # This will raise TypeError: 'tuple' object does not support item assignment\n"
      ]
    },
    {
      "cell_type": "markdown",
      "source": [],
      "metadata": {
        "id": "YEkX4B-4JKY3"
      }
    }
  ]
}