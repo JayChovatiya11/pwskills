{
  "nbformat": 4,
  "nbformat_minor": 0,
  "metadata": {
    "colab": {
      "provenance": []
    },
    "kernelspec": {
      "name": "python3",
      "display_name": "Python 3"
    },
    "language_info": {
      "name": "python"
    }
  },
  "cells": [
    {
      "cell_type": "code",
      "source": [
        "a = int(input(\"Enter a number: \"))\n",
        "print(a)"
      ],
      "metadata": {
        "colab": {
          "base_uri": "https://localhost:8080/"
        },
        "id": "1JvHPuG9EY7q",
        "outputId": "4a262621-bf5c-4050-f7dc-ee66801fc321"
      },
      "execution_count": 1,
      "outputs": [
        {
          "output_type": "stream",
          "name": "stdout",
          "text": [
            "Enter a number: 2\n",
            "2\n"
          ]
        }
      ]
    },
    {
      "cell_type": "code",
      "source": [
        "b=int(input(\"enter the number\"))\n",
        "print(b)"
      ],
      "metadata": {
        "colab": {
          "base_uri": "https://localhost:8080/"
        },
        "id": "3GdJAHxuEqSw",
        "outputId": "cccf8959-be54-4005-b689-24ab4ee1cbf9"
      },
      "execution_count": 2,
      "outputs": [
        {
          "output_type": "stream",
          "name": "stdout",
          "text": [
            "enter the number1\n",
            "1\n"
          ]
        }
      ]
    },
    {
      "cell_type": "code",
      "source": [
        "def add():\n",
        "    print(\"this is add function\")\n",
        "    a = int(input(\"enter the number a: \"))\n",
        "    b = int(input(\"enter the number b: \"))\n",
        "    c = a + b\n",
        "    print(c)\n",
        "\n",
        "# Call the function to test it\n",
        "add()\n"
      ],
      "metadata": {
        "colab": {
          "base_uri": "https://localhost:8080/"
        },
        "id": "Ne4bKKTZE7CH",
        "outputId": "b19319b5-e0b7-4b85-ee80-dbc82bee6dda"
      },
      "execution_count": 4,
      "outputs": [
        {
          "output_type": "stream",
          "name": "stdout",
          "text": [
            "this is add function\n",
            "enter the number a: 2\n",
            "enter the number b: 3\n",
            "5\n"
          ]
        }
      ]
    },
    {
      "cell_type": "code",
      "source": [
        "add()"
      ],
      "metadata": {
        "colab": {
          "base_uri": "https://localhost:8080/"
        },
        "id": "U-bYlSkxFOk3",
        "outputId": "947d06f8-de44-4445-813a-3af70d20922f"
      },
      "execution_count": 5,
      "outputs": [
        {
          "output_type": "stream",
          "name": "stdout",
          "text": [
            "this is add function\n",
            "enter the number a: 1\n",
            "enter the number b: 2\n",
            "3\n"
          ]
        }
      ]
    },
    {
      "cell_type": "code",
      "source": [
        "\n",
        "# Q1. Function to return a list of odd numbers in the range of 1 to 25\n",
        "def get_odd_numbers():\n",
        "    return [x for x in range(1, 26) if x % 2 != 0]\n",
        "\n",
        "print(get_odd_numbers())  # Output: [1, 3, 5, 7, 9, 11, 13, 15, 17, 19, 21, 23, 25]\n",
        "\n",
        "\n",
        "# Q2. Functions to demonstrate the use of *args and **kwargs\n",
        "def example_args(*args):\n",
        "    for arg in args:\n",
        "        print(arg)\n",
        "\n",
        "example_args(1, 2, 3, 4)  # Output: 1 2 3 4\n",
        "\n",
        "def example_kwargs(**kwargs):\n",
        "    for key, value in kwargs.items():\n",
        "        print(f\"{key}: {value}\")\n",
        "\n",
        "example_kwargs(name=\"John\", age=30, city=\"New York\")  # Output: name: John age: 30 city: New York\n",
        "\n",
        "\n",
        "# Q3. Using iter() and next() to print the first five elements of a list\n",
        "my_list = [2, 4, 6, 8, 10, 12, 14, 16, 18, 20]\n",
        "iterator = iter(my_list)\n",
        "for _ in range(5):\n",
        "    print(next(iterator))  # Output: 2 4 6 8 10\n",
        "\n",
        "\n",
        "# Q4. Generator function example\n",
        "def simple_generator():\n",
        "    yield 1\n",
        "    yield 2\n",
        "    yield 3\n",
        "\n",
        "gen = simple_generator()\n",
        "for value in gen:\n",
        "    print(value)  # Output: 1 2 3\n",
        "\n",
        "\n",
        "# Q5. Generator function for prime numbers less than 1000\n",
        "def is_prime(num):\n",
        "    if num < 2:\n",
        "        return False\n",
        "    for i in range(2, int(num ** 0.5) + 1):\n",
        "        if num % i == 0:\n",
        "            return False\n",
        "    return True\n",
        "\n",
        "def prime_generator():\n",
        "    num = 2\n",
        "    while num < 1000:\n",
        "        if is_prime(num):\n",
        "            yield num\n",
        "        num += 1\n",
        "\n",
        "gen = prime_generator()\n",
        "for _ in range(20):\n",
        "    print(next(gen))  # Output: first 20 prime numbers\n",
        "\n",
        "\n",
        "# Q6. Program to print the first 10 Fibonacci numbers using a while loop\n",
        "def fibonacci():\n",
        "    a, b = 0, 1\n",
        "    count = 0\n",
        "    while count < 10:\n",
        "        print(a)\n",
        "        a, b = b, a + b\n",
        "        count += 1\n",
        "\n",
        "fibonacci()  # Output: 0 1 1 2 3 5 8 13 21 34\n",
        "\n",
        "\n",
        "# Q7. List comprehension to iterate through the string 'pwskills'\n",
        "string = 'pwskills'\n",
        "output = [char for char in string]\n",
        "print(output)  # Output: ['p', 'w', 's', 'k', 'i', 'l', 'l', 's']\n",
        "\n",
        "\n",
        "# Q8. Program to check whether a given number is Palindrome or not using a while loop\n",
        "def is_palindrome(num):\n",
        "    original_num = num\n",
        "    reversed_num = 0\n",
        "    while num > 0:\n",
        "        digit = num % 10\n",
        "        reversed_num = reversed_num * 10 + digit\n",
        "        num = num // 10\n",
        "    return original_num == reversed_num\n",
        "\n",
        "# Test the function\n",
        "num = 121\n",
        "print(is_palindrome(num))  # Output: True\n",
        "\n",
        "\n",
        "# Q9. Code to print odd numbers from 1 to 100 using list comprehension\n",
        "numbers = [x for x in range(1, 101)]\n",
        "odd_numbers = [x for x in numbers if x % 2 != 0]\n",
        "print(odd_numbers)  # Output: [1, 3, 5, 7, 9, 11, ..., 97, 99]\n"
      ],
      "metadata": {
        "colab": {
          "base_uri": "https://localhost:8080/"
        },
        "id": "j6rmoF77HQb4",
        "outputId": "51c54991-6e15-4d44-b9cb-b1184d86834d"
      },
      "execution_count": 6,
      "outputs": [
        {
          "output_type": "stream",
          "name": "stdout",
          "text": [
            "[1, 3, 5, 7, 9, 11, 13, 15, 17, 19, 21, 23, 25]\n",
            "1\n",
            "2\n",
            "3\n",
            "4\n",
            "name: John\n",
            "age: 30\n",
            "city: New York\n",
            "2\n",
            "4\n",
            "6\n",
            "8\n",
            "10\n",
            "1\n",
            "2\n",
            "3\n",
            "2\n",
            "3\n",
            "5\n",
            "7\n",
            "11\n",
            "13\n",
            "17\n",
            "19\n",
            "23\n",
            "29\n",
            "31\n",
            "37\n",
            "41\n",
            "43\n",
            "47\n",
            "53\n",
            "59\n",
            "61\n",
            "67\n",
            "71\n",
            "0\n",
            "1\n",
            "1\n",
            "2\n",
            "3\n",
            "5\n",
            "8\n",
            "13\n",
            "21\n",
            "34\n",
            "['p', 'w', 's', 'k', 'i', 'l', 'l', 's']\n",
            "True\n",
            "[1, 3, 5, 7, 9, 11, 13, 15, 17, 19, 21, 23, 25, 27, 29, 31, 33, 35, 37, 39, 41, 43, 45, 47, 49, 51, 53, 55, 57, 59, 61, 63, 65, 67, 69, 71, 73, 75, 77, 79, 81, 83, 85, 87, 89, 91, 93, 95, 97, 99]\n"
          ]
        }
      ]
    }
  ]
}