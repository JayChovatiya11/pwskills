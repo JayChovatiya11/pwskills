{
  "nbformat": 4,
  "nbformat_minor": 0,
  "metadata": {
    "colab": {
      "provenance": []
    },
    "kernelspec": {
      "name": "python3",
      "display_name": "Python 3"
    },
    "language_info": {
      "name": "python"
    }
  },
  "cells": [
    {
      "cell_type": "code",
      "source": [
        "a = int(input(\"Enter a number: \"))\n",
        "print(a)"
      ],
      "metadata": {
        "colab": {
          "base_uri": "https://localhost:8080/"
        },
        "id": "1JvHPuG9EY7q",
        "outputId": "4a262621-bf5c-4050-f7dc-ee66801fc321"
      },
      "execution_count": 1,
      "outputs": [
        {
          "output_type": "stream",
          "name": "stdout",
          "text": [
            "Enter a number: 2\n",
            "2\n"
          ]
        }
      ]
    },
    {
      "cell_type": "code",
      "source": [
        "b=int(input(\"enter the number\"))\n",
        "print(b)"
      ],
      "metadata": {
        "colab": {
          "base_uri": "https://localhost:8080/"
        },
        "id": "3GdJAHxuEqSw",
        "outputId": "cccf8959-be54-4005-b689-24ab4ee1cbf9"
      },
      "execution_count": 2,
      "outputs": [
        {
          "output_type": "stream",
          "name": "stdout",
          "text": [
            "enter the number1\n",
            "1\n"
          ]
        }
      ]
    },
    {
      "cell_type": "code",
      "source": [
        "def add():\n",
        "    print(\"this is add function\")\n",
        "    a = int(input(\"enter the number a: \"))\n",
        "    b = int(input(\"enter the number b: \"))\n",
        "    c = a + b\n",
        "    print(c)\n",
        "\n",
        "# Call the function to test it\n",
        "add()\n"
      ],
      "metadata": {
        "colab": {
          "base_uri": "https://localhost:8080/"
        },
        "id": "Ne4bKKTZE7CH",
        "outputId": "b19319b5-e0b7-4b85-ee80-dbc82bee6dda"
      },
      "execution_count": 4,
      "outputs": [
        {
          "output_type": "stream",
          "name": "stdout",
          "text": [
            "this is add function\n",
            "enter the number a: 2\n",
            "enter the number b: 3\n",
            "5\n"
          ]
        }
      ]
    },
    {
      "cell_type": "code",
      "source": [
        "add()"
      ],
      "metadata": {
        "colab": {
          "base_uri": "https://localhost:8080/"
        },
        "id": "U-bYlSkxFOk3",
        "outputId": "947d06f8-de44-4445-813a-3af70d20922f"
      },
      "execution_count": 5,
      "outputs": [
        {
          "output_type": "stream",
          "name": "stdout",
          "text": [
            "this is add function\n",
            "enter the number a: 1\n",
            "enter the number b: 2\n",
            "3\n"
          ]
        }
      ]
    },
    {
      "cell_type": "code",
      "source": [
        "\n",
        "# Q1. Function to return a list of odd numbers in the range of 1 to 25\n",
        "def get_odd_numbers():\n",
        "    return [x for x in range(1, 26) if x % 2 != 0]\n",
        "\n",
        "print(get_odd_numbers())\n",
        "\n",
        "\n",
        "# Q2. Functions to demonstrate the use of *args and **kwargs\n",
        "def example_args(*args):\n",
        "    for arg in args:\n",
        "        print(arg)\n",
        "\n",
        "example_args(1, 2, 3, 4)\n",
        "\n",
        "def example_kwargs(**kwargs):\n",
        "    for key, value in kwargs.items():\n",
        "        print(f\"{key}: {value}\")\n",
        "\n",
        "example_kwargs(name=\"John\", age=30, city=\"New York\")  # Output: name: John age: 30 city: New York\n",
        "\n",
        "\n",
        "# Q3. Using iter() and next() to print the first five elements of a list\n",
        "my_list = [2, 4, 6, 8, 10, 12, 14, 16, 18, 20]\n",
        "iterator = iter(my_list)\n",
        "for _ in range(5):\n",
        "\n",
        "\n",
        "\n",
        " def simple_generator():\n",
        "    yield 1\n",
        "    yield 2\n",
        "    yield 3\n",
        "\n",
        "gen = simple_generator()\n",
        "for value in gen:\n",
        "    print(value)\n",
        "\n",
        "\n",
        "# Q5. Generator function for prime numbers less than 1000\n",
        "def is_prime(num):\n",
        "    if num < 2:\n",
        "        return False\n",
        "    for i in range(2, int(num ** 0.5) + 1):\n",
        "        if num % i == 0:\n",
        "            return False\n",
        "    return True\n",
        "\n",
        "def prime_generator():\n",
        "    num = 2\n",
        "    while num < 1000:\n",
        "        if is_prime(num):\n",
        "            yield num\n",
        "        num += 1\n",
        "\n",
        "gen = prime_generator()\n",
        "for _ in range(20):\n",
        "    print(next(gen))\n",
        "\n",
        "\n",
        "# Q6. Program to print the first 10 Fibonacci numbers using a while loop\n",
        "def fibonacci():\n",
        "    a, b = 0, 1\n",
        "    count = 0\n",
        "    while count < 10:\n",
        "        print(a)\n",
        "        a, b = b, a + b\n",
        "        count += 1\n",
        "\n",
        "fibonacci()\n",
        "\n",
        "\n",
        "# Q7. List comprehension to iterate through the string 'pwskills'\n",
        "string = 'pwskills'\n",
        "output = [char for char in string]\n",
        "print(output)\n",
        "\n",
        "\n",
        "# Q8. Program to check whether a given number is Palindrome or not using a while loop\n",
        "def is_palindrome(num):\n",
        "    original_num = num\n",
        "    reversed_num = 0\n",
        "    while num > 0:\n",
        "        digit = num % 10\n",
        "        reversed_num = reversed_num * 10 + digit\n",
        "        num = num // 10\n",
        "    return original_num == reversed_num\n",
        "\n",
        "# Test the function\n",
        "num = 121\n",
        "print(is_palindrome(num))\n",
        "\n",
        "\n",
        "# Q9. Code to print odd numbers from 1 to 100 using list comprehension\n",
        "numbers = [x for x in range(1, 101)]\n",
        "odd_numbers = [x for x in numbers if x % 2 != 0]\n",
        "print(odd_numbers)\n"
      ],
      "metadata": {
        "colab": {
          "base_uri": "https://localhost:8080/"
        },
        "id": "j6rmoF77HQb4",
        "outputId": "e7e94b51-fb0c-4f78-9fa4-086e1d667b84"
      },
      "execution_count": 8,
      "outputs": [
        {
          "output_type": "stream",
          "name": "stdout",
          "text": [
            "[1, 3, 5, 7, 9, 11, 13, 15, 17, 19, 21, 23, 25]\n",
            "1\n",
            "2\n",
            "3\n",
            "4\n",
            "name: John\n",
            "age: 30\n",
            "city: New York\n",
            "1\n",
            "2\n",
            "3\n",
            "2\n",
            "3\n",
            "5\n",
            "7\n",
            "11\n",
            "13\n",
            "17\n",
            "19\n",
            "23\n",
            "29\n",
            "31\n",
            "37\n",
            "41\n",
            "43\n",
            "47\n",
            "53\n",
            "59\n",
            "61\n",
            "67\n",
            "71\n",
            "0\n",
            "1\n",
            "1\n",
            "2\n",
            "3\n",
            "5\n",
            "8\n",
            "13\n",
            "21\n",
            "34\n",
            "['p', 'w', 's', 'k', 'i', 'l', 'l', 's']\n",
            "True\n",
            "[1, 3, 5, 7, 9, 11, 13, 15, 17, 19, 21, 23, 25, 27, 29, 31, 33, 35, 37, 39, 41, 43, 45, 47, 49, 51, 53, 55, 57, 59, 61, 63, 65, 67, 69, 71, 73, 75, 77, 79, 81, 83, 85, 87, 89, 91, 93, 95, 97, 99]\n"
          ]
        }
      ]
    },
    {
      "cell_type": "code",
      "source": [
        "\n",
        "# Q1. Sort the given list of tuples based on integer value using a lambda function.\n",
        "players = [('Sachin Tendulkar', 34357), ('Ricky Ponting', 27483), ('Jack Kallis', 25534), ('Virat Kohli', 24936)]\n",
        "sorted_players = sorted(players, key=lambda x: x[1])\n",
        "print(sorted_players)\n",
        "\n",
        "\n",
        "# Q2. Find the squares of all the numbers in the given list of integers using lambda and map functions.\n",
        "numbers = [1, 2, 3, 4, 5, 6, 7, 8, 9, 10]\n",
        "squares = list(map(lambda x: x**2, numbers))\n",
        "print(squares)\n",
        "\n",
        "\n",
        "# Q3. Convert the given list of integers into a tuple of strings using map and lambda functions.\n",
        "numbers = [1, 2, 3, 4, 5, 6, 7, 8, 9, 10]\n",
        "string_tuple = tuple(map(lambda x: str(x), numbers))\n",
        "print(string_tuple)\n",
        "\n",
        "\n",
        "# Q4. Compute the product of a list containing numbers from 1 to 25 using reduce function.\n",
        "from functools import reduce\n",
        "numbers = list(range(1, 26))\n",
        "product = reduce(lambda x, y: x * y, numbers)\n",
        "print(product)\n",
        "\n",
        "\n",
        "# Q5. Filter the numbers in a given list that are divisible by 2 and 3 using the filter function.\n",
        "numbers = [2, 3, 6, 9, 27, 60, 90, 120, 55, 46]\n",
        "divisible_by_2_and_3 = list(filter(lambda x: x % 2 == 0 and x % 3 == 0, numbers))\n",
        "print(divisible_by_2_and_3)\n",
        "\n",
        "\n",
        "# Q6. Find palindromes in the given list of strings using lambda and filter function.\n",
        "strings = ['python', 'php', 'aba', 'radar', 'level']\n",
        "palindromes = list(filter(lambda x: x == x[::-1], strings))\n",
        "print(palindromes)\n"
      ],
      "metadata": {
        "colab": {
          "base_uri": "https://localhost:8080/"
        },
        "id": "rqvedf1xIdhj",
        "outputId": "c3164e55-ceb8-4059-c911-56a8675c8378"
      },
      "execution_count": 9,
      "outputs": [
        {
          "output_type": "stream",
          "name": "stdout",
          "text": [
            "[('Virat Kohli', 24936), ('Jack Kallis', 25534), ('Ricky Ponting', 27483), ('Sachin Tendulkar', 34357)]\n",
            "[1, 4, 9, 16, 25, 36, 49, 64, 81, 100]\n",
            "('1', '2', '3', '4', '5', '6', '7', '8', '9', '10')\n",
            "15511210043330985984000000\n",
            "[6, 60, 90, 120]\n",
            "['php', 'aba', 'radar', 'level']\n"
          ]
        }
      ]
    }
  ]
}